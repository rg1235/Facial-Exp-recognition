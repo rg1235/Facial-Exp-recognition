{
  "nbformat": 4,
  "nbformat_minor": 0,
  "metadata": {
    "colab": {
      "name": "Material_classification.ipynb",
      "version": "0.3.2",
      "provenance": [],
      "collapsed_sections": [],
      "include_colab_link": true
    },
    "kernelspec": {
      "name": "python3",
      "display_name": "Python 3"
    },
    "accelerator": "GPU"
  },
  "cells": [
    {
      "cell_type": "markdown",
      "metadata": {
        "id": "view-in-github",
        "colab_type": "text"
      },
      "source": [
        "<a href=\"https://colab.research.google.com/github/rg1235/Facial-Exp-recognition/blob/master/Material_classification.ipynb\" target=\"_parent\"><img src=\"https://colab.research.google.com/assets/colab-badge.svg\" alt=\"Open In Colab\"/></a>"
      ]
    },
    {
      "metadata": {
        "id": "W29JW-7LFX1W",
        "colab_type": "code",
        "outputId": "b91d8e04-fe6e-4ef2-8e2b-6b1d6e4392d0",
        "colab": {
          "base_uri": "https://localhost:8080/",
          "height": 692
        }
      },
      "cell_type": "code",
      "source": [
        "from tensorflow.python.client import device_lib\n",
        "\n",
        "print(device_lib.list_local_devices())\n",
        "from google.colab import drive\n",
        "drive.mount('/content/gdrive')"
      ],
      "execution_count": 1,
      "outputs": [
        {
          "output_type": "stream",
          "text": [
            "[name: \"/device:CPU:0\"\n",
            "device_type: \"CPU\"\n",
            "memory_limit: 268435456\n",
            "locality {\n",
            "}\n",
            "incarnation: 9761693658645559828\n",
            ", name: \"/device:XLA_CPU:0\"\n",
            "device_type: \"XLA_CPU\"\n",
            "memory_limit: 17179869184\n",
            "locality {\n",
            "}\n",
            "incarnation: 9263596078138559306\n",
            "physical_device_desc: \"device: XLA_CPU device\"\n",
            ", name: \"/device:XLA_GPU:0\"\n",
            "device_type: \"XLA_GPU\"\n",
            "memory_limit: 17179869184\n",
            "locality {\n",
            "}\n",
            "incarnation: 17526313134634100068\n",
            "physical_device_desc: \"device: XLA_GPU device\"\n",
            ", name: \"/device:GPU:0\"\n",
            "device_type: \"GPU\"\n",
            "memory_limit: 14800692839\n",
            "locality {\n",
            "  bus_id: 1\n",
            "  links {\n",
            "  }\n",
            "}\n",
            "incarnation: 13238559270875896941\n",
            "physical_device_desc: \"device: 0, name: Tesla T4, pci bus id: 0000:00:04.0, compute capability: 7.5\"\n",
            "]\n",
            "Go to this URL in a browser: https://accounts.google.com/o/oauth2/auth?client_id=947318989803-6bn6qk8qdgf4n4g3pfee6491hc0brc4i.apps.googleusercontent.com&redirect_uri=urn%3Aietf%3Awg%3Aoauth%3A2.0%3Aoob&scope=email%20https%3A%2F%2Fwww.googleapis.com%2Fauth%2Fdocs.test%20https%3A%2F%2Fwww.googleapis.com%2Fauth%2Fdrive%20https%3A%2F%2Fwww.googleapis.com%2Fauth%2Fdrive.photos.readonly%20https%3A%2F%2Fwww.googleapis.com%2Fauth%2Fpeopleapi.readonly&response_type=code\n",
            "\n",
            "Enter your authorization code:\n",
            "··········\n",
            "Mounted at /content/gdrive\n"
          ],
          "name": "stdout"
        }
      ]
    },
    {
      "metadata": {
        "id": "BDPjDSgxKOGy",
        "colab_type": "code",
        "colab": {}
      },
      "cell_type": "code",
      "source": [
        "import cv2\n",
        "import glob\n",
        "import numpy as np"
      ],
      "execution_count": 0,
      "outputs": []
    },
    {
      "metadata": {
        "id": "cek2KdWpLj7I",
        "colab_type": "code",
        "colab": {}
      },
      "cell_type": "code",
      "source": [
        "train=[]\n",
        "train_labels=[]"
      ],
      "execution_count": 0,
      "outputs": []
    },
    {
      "metadata": {
        "id": "DEdT081nKx15",
        "colab_type": "code",
        "colab": {}
      },
      "cell_type": "code",
      "source": [
        "#importing the image files for glass\n",
        "files = glob.glob (\"/content/gdrive/My Drive/FMD/image/glass/*.jpg\")\n",
        "for myFile in files:\n",
        "    image = cv2.imread (myFile)\n",
        "    train.append (image)\n",
        "    train_labels.append([0])"
      ],
      "execution_count": 0,
      "outputs": []
    },
    {
      "metadata": {
        "id": "buvn_KxxLzmK",
        "colab_type": "code",
        "colab": {}
      },
      "cell_type": "code",
      "source": [
        "#importing the image files for leather\n",
        "files = glob.glob (\"/content/gdrive/My Drive/FMD/image/leather/*.jpg\") # your image path\n",
        "for myFile in files:\n",
        "    image = cv2.imread (myFile)\n",
        "    train.append (image)\n",
        "    train_labels.append([1])"
      ],
      "execution_count": 0,
      "outputs": []
    },
    {
      "metadata": {
        "id": "-l-AzYtGMThE",
        "colab_type": "code",
        "colab": {}
      },
      "cell_type": "code",
      "source": [
        "#importing images for metal\n",
        "files = glob.glob (\"/content/gdrive/My Drive/FMD/image/metal/*.jpg\") # your image path\n",
        "for myFile in files:\n",
        "    image = cv2.imread (myFile)\n",
        "    train.append (image)\n",
        "    train_labels.append([2])"
      ],
      "execution_count": 0,
      "outputs": []
    },
    {
      "metadata": {
        "id": "CZ5PmYLOMzQ_",
        "colab_type": "code",
        "colab": {}
      },
      "cell_type": "code",
      "source": [
        "#importing images for wood\n",
        "files = glob.glob (\"/content/gdrive/My Drive/FMD/image/wood/*.jpg\") # your image path\n",
        "for myFile in files:\n",
        "    image = cv2.imread (myFile)\n",
        "    train.append (image)\n",
        "    train_labels.append([3])"
      ],
      "execution_count": 0,
      "outputs": []
    },
    {
      "metadata": {
        "id": "iCZmL8ttNAIc",
        "colab_type": "code",
        "colab": {}
      },
      "cell_type": "code",
      "source": [
        "from keras.utils import to_categorical\n",
        "train_Y_one_hot = to_categorical(train_labels)"
      ],
      "execution_count": 0,
      "outputs": []
    },
    {
      "metadata": {
        "id": "kpar1QT47Ud9",
        "colab_type": "code",
        "outputId": "69141c01-956d-4fd2-aa44-a711d663a2e6",
        "colab": {
          "base_uri": "https://localhost:8080/",
          "height": 145
        }
      },
      "cell_type": "code",
      "source": [
        "train_Y_one_hot"
      ],
      "execution_count": 36,
      "outputs": [
        {
          "output_type": "execute_result",
          "data": {
            "text/plain": [
              "array([[1., 0., 0., 0.],\n",
              "       [1., 0., 0., 0.],\n",
              "       [1., 0., 0., 0.],\n",
              "       ...,\n",
              "       [0., 0., 0., 1.],\n",
              "       [0., 0., 0., 1.],\n",
              "       [0., 0., 0., 1.]], dtype=float32)"
            ]
          },
          "metadata": {
            "tags": []
          },
          "execution_count": 36
        }
      ]
    },
    {
      "metadata": {
        "id": "ApOGXIo5NgS5",
        "colab_type": "code",
        "colab": {}
      },
      "cell_type": "code",
      "source": [
        "#converting to numpy array\n",
        "train = np.array(train,dtype='float32') #as mnist\n",
        "#train_labels = np.array(train_labels,dtype='float64') #as mnist"
      ],
      "execution_count": 0,
      "outputs": []
    },
    {
      "metadata": {
        "id": "HD5guATE-3u1",
        "colab_type": "code",
        "outputId": "471a6dd5-af22-4eb3-a3dc-9d58383b4460",
        "colab": {
          "base_uri": "https://localhost:8080/",
          "height": 35
        }
      },
      "cell_type": "code",
      "source": [
        "from sklearn.model_selection import train_test_split\n",
        "train_X,test_X,train_label,test_label = train_test_split(train, train_Y_one_hot, test_size=0.2, random_state=13)\n",
        "print(train_X.shape,test_X.shape,train_label.shape,test_label.shape)"
      ],
      "execution_count": 38,
      "outputs": [
        {
          "output_type": "stream",
          "text": [
            "(320, 384, 512, 3) (80, 384, 512, 3) (320, 4) (80, 4)\n"
          ],
          "name": "stdout"
        }
      ]
    },
    {
      "metadata": {
        "id": "gUosHHOKNl6_",
        "colab_type": "code",
        "outputId": "f46d2906-9eed-4185-dda7-691741341cd4",
        "colab": {
          "base_uri": "https://localhost:8080/",
          "height": 35
        }
      },
      "cell_type": "code",
      "source": [
        "train.shape"
      ],
      "execution_count": 39,
      "outputs": [
        {
          "output_type": "execute_result",
          "data": {
            "text/plain": [
              "(400, 384, 512, 3)"
            ]
          },
          "metadata": {
            "tags": []
          },
          "execution_count": 39
        }
      ]
    },
    {
      "metadata": {
        "id": "mkHqGs1Wg_WB",
        "colab_type": "code",
        "colab": {}
      },
      "cell_type": "code",
      "source": [
        "from keras.applications import VGG16\n",
        " \n",
        "vgg_conv = VGG16(weights='imagenet',\n",
        "                  include_top=False,\n",
        "                  input_shape=(384, 512, 3))"
      ],
      "execution_count": 0,
      "outputs": []
    },
    {
      "metadata": {
        "id": "2ANggfw-hZPj",
        "colab_type": "text"
      },
      "cell_type": "markdown",
      "source": [
        "Using a pretrained VGG16 model"
      ]
    },
    {
      "metadata": {
        "id": "3sF2QzhiOBZ_",
        "colab_type": "code",
        "colab": {}
      },
      "cell_type": "code",
      "source": [
        "from keras.preprocessing.image import ImageDataGenerator, array_to_img, img_to_array, load_img\n",
        "datagen = ImageDataGenerator(rescale=1./255,horizontal_flip=True,vertical_flip=True)\n",
        "batch_size = 10\n",
        "train_generator = datagen.flow(train_X,train_label,batch_size=batch_size)"
      ],
      "execution_count": 0,
      "outputs": []
    },
    {
      "metadata": {
        "id": "hS_yHZa0jTQT",
        "colab_type": "code",
        "colab": {}
      },
      "cell_type": "code",
      "source": [
        "nTrain=600\n",
        "train_features = np.zeros(shape=(nTrain, 12, 16, 512))\n",
        "train_labels_1 = np.zeros(shape=(nTrain,4))"
      ],
      "execution_count": 0,
      "outputs": []
    },
    {
      "metadata": {
        "id": "3Jupk6UXednn",
        "colab_type": "code",
        "colab": {}
      },
      "cell_type": "code",
      "source": [
        "i = 0\n",
        "for inputs_batch, labels_batch in train_generator:\n",
        "    #print(inputs_batch.shape)\n",
        "    features_batch = vgg_conv.predict(inputs_batch)\n",
        "    #print(features_batch.shape)\n",
        "    train_features[i * batch_size : (i + 1) * batch_size] = features_batch\n",
        "    train_labels_1[i * batch_size : (i + 1) * batch_size] = labels_batch\n",
        "    i += 1\n",
        "    if i * batch_size >= nTrain:\n",
        "        break"
      ],
      "execution_count": 0,
      "outputs": []
    },
    {
      "metadata": {
        "id": "QmO2oYZlegdf",
        "colab_type": "code",
        "colab": {}
      },
      "cell_type": "code",
      "source": [
        "train_features.shape\n",
        "train_features = np.reshape(train_features, (nTrain, 12 * 16 * 512))"
      ],
      "execution_count": 0,
      "outputs": []
    },
    {
      "metadata": {
        "id": "EsSly4Ez1bk1",
        "colab_type": "code",
        "outputId": "c2adcd59-7f43-4bf8-936b-f7f425a71c0b",
        "colab": {
          "base_uri": "https://localhost:8080/",
          "height": 145
        }
      },
      "cell_type": "code",
      "source": [
        "train_labels_1\n"
      ],
      "execution_count": 45,
      "outputs": [
        {
          "output_type": "execute_result",
          "data": {
            "text/plain": [
              "array([[0., 0., 0., 1.],\n",
              "       [0., 1., 0., 0.],\n",
              "       [0., 0., 1., 0.],\n",
              "       ...,\n",
              "       [0., 1., 0., 0.],\n",
              "       [1., 0., 0., 0.],\n",
              "       [1., 0., 0., 0.]])"
            ]
          },
          "metadata": {
            "tags": []
          },
          "execution_count": 45
        }
      ]
    },
    {
      "metadata": {
        "id": "kSR-kqfn8k3W",
        "colab_type": "code",
        "colab": {}
      },
      "cell_type": "code",
      "source": [
        "import keras\n",
        "from keras.models import Sequential,Input,Model\n",
        "from keras.layers import Dense, Dropout, Flatten\n",
        "from keras.layers import Conv2D, MaxPooling2D ,AveragePooling2D\n",
        "from keras.layers.normalization import BatchNormalization\n",
        "from keras.layers.advanced_activations import LeakyReLU"
      ],
      "execution_count": 0,
      "outputs": []
    },
    {
      "metadata": {
        "id": "OipLWR7W2JzU",
        "colab_type": "code",
        "colab": {}
      },
      "cell_type": "code",
      "source": [
        "from keras import models\n",
        "from keras import layers\n",
        "from keras import optimizers\n",
        " \n",
        "model = models.Sequential()\n",
        "model.add(layers.Dense(256, activation='relu', input_dim=12 * 16 * 512))\n",
        "model.add(LeakyReLU(alpha=0.1))\n",
        "model.add(layers.Dropout(0.5))\n",
        "model.add(layers.Dense(4, activation='softmax'))"
      ],
      "execution_count": 0,
      "outputs": []
    },
    {
      "metadata": {
        "id": "QavDA0Z78b79",
        "colab_type": "code",
        "outputId": "b7188d22-8a55-4036-e6f4-2019bd128306",
        "colab": {
          "base_uri": "https://localhost:8080/",
          "height": 290
        }
      },
      "cell_type": "code",
      "source": [
        "model.summary()"
      ],
      "execution_count": 48,
      "outputs": [
        {
          "output_type": "stream",
          "text": [
            "_________________________________________________________________\n",
            "Layer (type)                 Output Shape              Param #   \n",
            "=================================================================\n",
            "dense_3 (Dense)              (None, 256)               25166080  \n",
            "_________________________________________________________________\n",
            "leaky_re_lu_2 (LeakyReLU)    (None, 256)               0         \n",
            "_________________________________________________________________\n",
            "dropout_2 (Dropout)          (None, 256)               0         \n",
            "_________________________________________________________________\n",
            "dense_4 (Dense)              (None, 4)                 1028      \n",
            "=================================================================\n",
            "Total params: 25,167,108\n",
            "Trainable params: 25,167,108\n",
            "Non-trainable params: 0\n",
            "_________________________________________________________________\n"
          ],
          "name": "stdout"
        }
      ]
    },
    {
      "metadata": {
        "id": "dqBAOu09-L03",
        "colab_type": "code",
        "outputId": "5426eef0-381f-4153-a84b-a40e317855ef",
        "colab": {
          "base_uri": "https://localhost:8080/",
          "height": 7290
        }
      },
      "cell_type": "code",
      "source": [
        "epochs=200\n",
        "#model.compile(loss=keras.losses.categorical_crossentropy, optimizer=keras.optimizers.SGD(momentum=0.9),metrics=['accuracy'])\n",
        "model.compile(optimizer=optimizers.RMSprop(lr=2e-4),loss='categorical_crossentropy',metrics=['acc'])\n",
        "model_train = model.fit(train_features, train_labels_1, batch_size=batch_size,epochs=epochs,verbose=1)"
      ],
      "execution_count": 49,
      "outputs": [
        {
          "output_type": "stream",
          "text": [
            "Epoch 1/200\n",
            "600/600 [==============================] - 2s 3ms/step - loss: 3.0738 - acc: 0.4583\n",
            "Epoch 2/200\n",
            "600/600 [==============================] - 1s 2ms/step - loss: 1.1437 - acc: 0.6250\n",
            "Epoch 3/200\n",
            "600/600 [==============================] - 1s 2ms/step - loss: 0.9234 - acc: 0.6983\n",
            "Epoch 4/200\n",
            "600/600 [==============================] - 1s 2ms/step - loss: 0.7169 - acc: 0.7633\n",
            "Epoch 5/200\n",
            "600/600 [==============================] - 1s 2ms/step - loss: 0.4914 - acc: 0.8250\n",
            "Epoch 6/200\n",
            "600/600 [==============================] - 1s 2ms/step - loss: 0.4158 - acc: 0.8600\n",
            "Epoch 7/200\n",
            "600/600 [==============================] - 1s 2ms/step - loss: 0.3204 - acc: 0.8900\n",
            "Epoch 8/200\n",
            "600/600 [==============================] - 1s 2ms/step - loss: 0.2453 - acc: 0.9100\n",
            "Epoch 9/200\n",
            "600/600 [==============================] - 1s 2ms/step - loss: 0.2181 - acc: 0.9333\n",
            "Epoch 10/200\n",
            "600/600 [==============================] - 1s 2ms/step - loss: 0.1193 - acc: 0.9600\n",
            "Epoch 11/200\n",
            "600/600 [==============================] - 1s 2ms/step - loss: 0.1169 - acc: 0.9617\n",
            "Epoch 12/200\n",
            "600/600 [==============================] - 1s 2ms/step - loss: 0.1562 - acc: 0.9633\n",
            "Epoch 13/200\n",
            "600/600 [==============================] - 1s 2ms/step - loss: 0.1395 - acc: 0.9533\n",
            "Epoch 14/200\n",
            "600/600 [==============================] - 1s 2ms/step - loss: 0.1139 - acc: 0.9600\n",
            "Epoch 15/200\n",
            "600/600 [==============================] - 1s 2ms/step - loss: 0.0890 - acc: 0.9600\n",
            "Epoch 16/200\n",
            "600/600 [==============================] - 1s 2ms/step - loss: 0.0789 - acc: 0.9717\n",
            "Epoch 17/200\n",
            "600/600 [==============================] - 1s 2ms/step - loss: 0.0438 - acc: 0.9883\n",
            "Epoch 18/200\n",
            "600/600 [==============================] - 1s 2ms/step - loss: 0.0686 - acc: 0.9700\n",
            "Epoch 19/200\n",
            "600/600 [==============================] - 1s 2ms/step - loss: 0.0954 - acc: 0.9767\n",
            "Epoch 20/200\n",
            "600/600 [==============================] - 1s 2ms/step - loss: 0.0813 - acc: 0.9783\n",
            "Epoch 21/200\n",
            "600/600 [==============================] - 1s 2ms/step - loss: 0.0781 - acc: 0.9733\n",
            "Epoch 22/200\n",
            "600/600 [==============================] - 1s 2ms/step - loss: 0.0754 - acc: 0.9767\n",
            "Epoch 23/200\n",
            "600/600 [==============================] - 1s 2ms/step - loss: 0.0574 - acc: 0.9817\n",
            "Epoch 24/200\n",
            "600/600 [==============================] - 1s 2ms/step - loss: 0.0721 - acc: 0.9800\n",
            "Epoch 25/200\n",
            "600/600 [==============================] - 1s 2ms/step - loss: 0.0297 - acc: 0.9867\n",
            "Epoch 26/200\n",
            "600/600 [==============================] - 1s 2ms/step - loss: 0.0500 - acc: 0.9883\n",
            "Epoch 27/200\n",
            "600/600 [==============================] - 1s 2ms/step - loss: 0.0754 - acc: 0.9867\n",
            "Epoch 28/200\n",
            "600/600 [==============================] - 1s 2ms/step - loss: 0.0638 - acc: 0.9783\n",
            "Epoch 29/200\n",
            "600/600 [==============================] - 1s 2ms/step - loss: 0.0181 - acc: 0.9967\n",
            "Epoch 30/200\n",
            "600/600 [==============================] - 1s 2ms/step - loss: 0.0340 - acc: 0.9883\n",
            "Epoch 31/200\n",
            "600/600 [==============================] - 1s 2ms/step - loss: 0.0437 - acc: 0.9817\n",
            "Epoch 32/200\n",
            "600/600 [==============================] - 1s 2ms/step - loss: 0.0714 - acc: 0.9817\n",
            "Epoch 33/200\n",
            "600/600 [==============================] - 1s 2ms/step - loss: 0.0417 - acc: 0.9867\n",
            "Epoch 34/200\n",
            "600/600 [==============================] - 1s 2ms/step - loss: 0.0195 - acc: 0.9967\n",
            "Epoch 35/200\n",
            "600/600 [==============================] - 1s 2ms/step - loss: 0.0205 - acc: 0.9900\n",
            "Epoch 36/200\n",
            "600/600 [==============================] - 1s 2ms/step - loss: 0.0773 - acc: 0.9783\n",
            "Epoch 37/200\n",
            "600/600 [==============================] - 1s 2ms/step - loss: 0.0471 - acc: 0.9900\n",
            "Epoch 38/200\n",
            "600/600 [==============================] - 1s 2ms/step - loss: 0.0590 - acc: 0.9867\n",
            "Epoch 39/200\n",
            "600/600 [==============================] - 1s 2ms/step - loss: 0.0540 - acc: 0.9850\n",
            "Epoch 40/200\n",
            "600/600 [==============================] - 1s 2ms/step - loss: 0.0359 - acc: 0.9933\n",
            "Epoch 41/200\n",
            "600/600 [==============================] - 1s 2ms/step - loss: 0.0094 - acc: 0.9950\n",
            "Epoch 42/200\n",
            "600/600 [==============================] - 1s 2ms/step - loss: 0.0100 - acc: 0.9983\n",
            "Epoch 43/200\n",
            "600/600 [==============================] - 1s 2ms/step - loss: 0.0270 - acc: 0.9933\n",
            "Epoch 44/200\n",
            "600/600 [==============================] - 1s 2ms/step - loss: 0.0382 - acc: 0.9900\n",
            "Epoch 45/200\n",
            "600/600 [==============================] - 1s 2ms/step - loss: 0.0311 - acc: 0.9933\n",
            "Epoch 46/200\n",
            "600/600 [==============================] - 1s 2ms/step - loss: 4.3586e-04 - acc: 1.0000\n",
            "Epoch 47/200\n",
            "600/600 [==============================] - 1s 2ms/step - loss: 0.0597 - acc: 0.9850\n",
            "Epoch 48/200\n",
            "600/600 [==============================] - 1s 2ms/step - loss: 0.0180 - acc: 0.9933\n",
            "Epoch 49/200\n",
            "600/600 [==============================] - 1s 2ms/step - loss: 0.0049 - acc: 0.9983\n",
            "Epoch 50/200\n",
            "600/600 [==============================] - 1s 2ms/step - loss: 0.0261 - acc: 0.9950\n",
            "Epoch 51/200\n",
            "600/600 [==============================] - 1s 2ms/step - loss: 0.0178 - acc: 0.9950\n",
            "Epoch 52/200\n",
            "600/600 [==============================] - 1s 2ms/step - loss: 0.0331 - acc: 0.9967\n",
            "Epoch 53/200\n",
            "600/600 [==============================] - 1s 2ms/step - loss: 0.0154 - acc: 0.9950\n",
            "Epoch 54/200\n",
            "600/600 [==============================] - 1s 2ms/step - loss: 0.0381 - acc: 0.9917\n",
            "Epoch 55/200\n",
            "600/600 [==============================] - 1s 2ms/step - loss: 0.0100 - acc: 0.9950\n",
            "Epoch 56/200\n",
            "600/600 [==============================] - 1s 2ms/step - loss: 4.2370e-04 - acc: 1.0000\n",
            "Epoch 57/200\n",
            "600/600 [==============================] - 1s 2ms/step - loss: 0.0034 - acc: 0.9983\n",
            "Epoch 58/200\n",
            "600/600 [==============================] - 1s 2ms/step - loss: 0.0140 - acc: 0.9933\n",
            "Epoch 59/200\n",
            "600/600 [==============================] - 1s 2ms/step - loss: 0.0114 - acc: 0.9983\n",
            "Epoch 60/200\n",
            "600/600 [==============================] - 1s 2ms/step - loss: 0.0198 - acc: 0.9950\n",
            "Epoch 61/200\n",
            "600/600 [==============================] - 1s 2ms/step - loss: 0.0043 - acc: 0.9983\n",
            "Epoch 62/200\n",
            "600/600 [==============================] - 1s 2ms/step - loss: 0.0093 - acc: 0.9967\n",
            "Epoch 63/200\n",
            "600/600 [==============================] - 1s 2ms/step - loss: 0.0020 - acc: 1.0000\n",
            "Epoch 64/200\n",
            "600/600 [==============================] - 1s 2ms/step - loss: 0.0288 - acc: 0.9933\n",
            "Epoch 65/200\n",
            "600/600 [==============================] - 1s 2ms/step - loss: 0.0064 - acc: 0.9983\n",
            "Epoch 66/200\n",
            "600/600 [==============================] - 1s 2ms/step - loss: 0.0340 - acc: 0.9917\n",
            "Epoch 67/200\n",
            "600/600 [==============================] - 1s 2ms/step - loss: 0.0144 - acc: 0.9967\n",
            "Epoch 68/200\n",
            "600/600 [==============================] - 1s 2ms/step - loss: 0.0165 - acc: 0.9950\n",
            "Epoch 69/200\n",
            "600/600 [==============================] - 1s 2ms/step - loss: 0.0355 - acc: 0.9917\n",
            "Epoch 70/200\n",
            "600/600 [==============================] - 1s 2ms/step - loss: 0.0150 - acc: 0.9950\n",
            "Epoch 71/200\n",
            "600/600 [==============================] - 1s 2ms/step - loss: 0.0249 - acc: 0.9950\n",
            "Epoch 72/200\n",
            "600/600 [==============================] - 1s 2ms/step - loss: 0.0142 - acc: 0.9950\n",
            "Epoch 73/200\n",
            "600/600 [==============================] - 1s 2ms/step - loss: 0.0160 - acc: 0.9933\n",
            "Epoch 74/200\n",
            "600/600 [==============================] - 1s 2ms/step - loss: 0.0193 - acc: 0.9933\n",
            "Epoch 75/200\n",
            "600/600 [==============================] - 1s 2ms/step - loss: 0.0068 - acc: 0.9967\n",
            "Epoch 76/200\n",
            "600/600 [==============================] - 1s 2ms/step - loss: 0.0557 - acc: 0.9883\n",
            "Epoch 77/200\n",
            "600/600 [==============================] - 1s 2ms/step - loss: 0.0201 - acc: 0.9967\n",
            "Epoch 78/200\n",
            "600/600 [==============================] - 1s 2ms/step - loss: 0.0134 - acc: 0.9933\n",
            "Epoch 79/200\n",
            "600/600 [==============================] - 1s 2ms/step - loss: 0.0068 - acc: 0.9983\n",
            "Epoch 80/200\n",
            "600/600 [==============================] - 1s 2ms/step - loss: 0.0219 - acc: 0.9950\n",
            "Epoch 81/200\n",
            "600/600 [==============================] - 1s 2ms/step - loss: 0.0112 - acc: 0.9967\n",
            "Epoch 82/200\n",
            "600/600 [==============================] - 1s 2ms/step - loss: 6.0345e-05 - acc: 1.0000\n",
            "Epoch 83/200\n",
            "600/600 [==============================] - 1s 2ms/step - loss: 0.0045 - acc: 0.9983\n",
            "Epoch 84/200\n",
            "600/600 [==============================] - 1s 2ms/step - loss: 0.0184 - acc: 0.9967\n",
            "Epoch 85/200\n",
            "600/600 [==============================] - 1s 2ms/step - loss: 0.0253 - acc: 0.9950\n",
            "Epoch 86/200\n",
            "600/600 [==============================] - 1s 2ms/step - loss: 0.0048 - acc: 0.9983\n",
            "Epoch 87/200\n",
            "600/600 [==============================] - 1s 2ms/step - loss: 0.0035 - acc: 0.9967\n",
            "Epoch 88/200\n",
            "600/600 [==============================] - 1s 2ms/step - loss: 0.0015 - acc: 0.9983\n",
            "Epoch 89/200\n",
            "600/600 [==============================] - 1s 2ms/step - loss: 0.0190 - acc: 0.9950\n",
            "Epoch 90/200\n",
            "600/600 [==============================] - 1s 2ms/step - loss: 6.5956e-04 - acc: 1.0000\n",
            "Epoch 91/200\n",
            "600/600 [==============================] - 1s 2ms/step - loss: 0.0070 - acc: 0.9983\n",
            "Epoch 92/200\n",
            "600/600 [==============================] - 1s 2ms/step - loss: 0.0015 - acc: 0.9983\n",
            "Epoch 93/200\n",
            "600/600 [==============================] - 1s 2ms/step - loss: 0.0018 - acc: 0.9983\n",
            "Epoch 94/200\n",
            "600/600 [==============================] - 1s 2ms/step - loss: 0.0328 - acc: 0.9933\n",
            "Epoch 95/200\n",
            "600/600 [==============================] - 1s 2ms/step - loss: 0.0191 - acc: 0.9967\n",
            "Epoch 96/200\n",
            "600/600 [==============================] - 1s 2ms/step - loss: 0.0025 - acc: 0.9983\n",
            "Epoch 97/200\n",
            "600/600 [==============================] - 1s 2ms/step - loss: 8.6692e-04 - acc: 1.0000\n",
            "Epoch 98/200\n",
            "600/600 [==============================] - 1s 2ms/step - loss: 6.5516e-04 - acc: 1.0000\n",
            "Epoch 99/200\n",
            "600/600 [==============================] - 1s 2ms/step - loss: 0.0187 - acc: 0.9967\n",
            "Epoch 100/200\n",
            "600/600 [==============================] - 1s 2ms/step - loss: 0.0268 - acc: 0.9933\n",
            "Epoch 101/200\n",
            "600/600 [==============================] - 1s 2ms/step - loss: 0.0075 - acc: 0.9967\n",
            "Epoch 102/200\n",
            "600/600 [==============================] - 1s 2ms/step - loss: 0.0043 - acc: 0.9983\n",
            "Epoch 103/200\n",
            "600/600 [==============================] - 1s 2ms/step - loss: 0.0043 - acc: 0.9983\n",
            "Epoch 104/200\n",
            "600/600 [==============================] - 1s 2ms/step - loss: 0.0430 - acc: 0.9933\n",
            "Epoch 105/200\n",
            "600/600 [==============================] - 1s 2ms/step - loss: 0.0181 - acc: 0.9983\n",
            "Epoch 106/200\n",
            "600/600 [==============================] - 1s 2ms/step - loss: 2.9029e-04 - acc: 1.0000\n",
            "Epoch 107/200\n",
            "600/600 [==============================] - 1s 2ms/step - loss: 3.4200e-06 - acc: 1.0000\n",
            "Epoch 108/200\n",
            "600/600 [==============================] - 1s 2ms/step - loss: 0.0035 - acc: 0.9967\n",
            "Epoch 109/200\n",
            "600/600 [==============================] - 1s 2ms/step - loss: 0.0068 - acc: 0.9983\n",
            "Epoch 110/200\n",
            "600/600 [==============================] - 1s 2ms/step - loss: 0.0049 - acc: 0.9983\n",
            "Epoch 111/200\n",
            "600/600 [==============================] - 1s 2ms/step - loss: 0.0030 - acc: 0.9983\n",
            "Epoch 112/200\n",
            "600/600 [==============================] - 1s 2ms/step - loss: 3.7900e-04 - acc: 1.0000\n",
            "Epoch 113/200\n",
            "600/600 [==============================] - 1s 2ms/step - loss: 0.0014 - acc: 1.0000\n",
            "Epoch 114/200\n",
            "600/600 [==============================] - 1s 2ms/step - loss: 0.0208 - acc: 0.9933\n",
            "Epoch 115/200\n",
            "600/600 [==============================] - 1s 2ms/step - loss: 5.5442e-04 - acc: 1.0000\n",
            "Epoch 116/200\n",
            "600/600 [==============================] - 1s 2ms/step - loss: 4.0998e-04 - acc: 1.0000\n",
            "Epoch 117/200\n",
            "600/600 [==============================] - 1s 2ms/step - loss: 0.0044 - acc: 0.9983\n",
            "Epoch 118/200\n",
            "600/600 [==============================] - 1s 2ms/step - loss: 2.1508e-04 - acc: 1.0000\n",
            "Epoch 119/200\n",
            "600/600 [==============================] - 1s 2ms/step - loss: 0.0134 - acc: 0.9950\n",
            "Epoch 120/200\n",
            "600/600 [==============================] - 1s 2ms/step - loss: 0.0233 - acc: 0.9950\n",
            "Epoch 121/200\n",
            "600/600 [==============================] - 1s 2ms/step - loss: 0.0052 - acc: 0.9967\n",
            "Epoch 122/200\n",
            "600/600 [==============================] - 1s 2ms/step - loss: 0.0055 - acc: 0.9983\n",
            "Epoch 123/200\n",
            "600/600 [==============================] - 1s 2ms/step - loss: 0.0104 - acc: 0.9983\n",
            "Epoch 124/200\n",
            "600/600 [==============================] - 1s 2ms/step - loss: 3.8784e-05 - acc: 1.0000\n",
            "Epoch 125/200\n",
            "600/600 [==============================] - 1s 2ms/step - loss: 2.3639e-05 - acc: 1.0000\n",
            "Epoch 126/200\n",
            "600/600 [==============================] - 1s 2ms/step - loss: 5.5650e-04 - acc: 1.0000\n",
            "Epoch 127/200\n",
            "600/600 [==============================] - 1s 2ms/step - loss: 8.0995e-04 - acc: 1.0000\n",
            "Epoch 128/200\n",
            "600/600 [==============================] - 1s 2ms/step - loss: 0.0089 - acc: 0.9983\n",
            "Epoch 129/200\n",
            "600/600 [==============================] - 1s 2ms/step - loss: 0.0034 - acc: 0.9967\n",
            "Epoch 130/200\n",
            "600/600 [==============================] - 1s 2ms/step - loss: 0.0012 - acc: 1.0000\n",
            "Epoch 131/200\n",
            "600/600 [==============================] - 1s 2ms/step - loss: 3.7849e-05 - acc: 1.0000\n",
            "Epoch 132/200\n",
            "600/600 [==============================] - 1s 2ms/step - loss: 0.0025 - acc: 0.9983\n",
            "Epoch 133/200\n",
            "600/600 [==============================] - 1s 2ms/step - loss: 0.0085 - acc: 0.9983\n",
            "Epoch 134/200\n",
            "600/600 [==============================] - 1s 2ms/step - loss: 1.6503e-04 - acc: 1.0000\n",
            "Epoch 135/200\n",
            "600/600 [==============================] - 1s 2ms/step - loss: 3.1134e-05 - acc: 1.0000\n",
            "Epoch 136/200\n",
            "600/600 [==============================] - 1s 2ms/step - loss: 1.1040e-04 - acc: 1.0000\n",
            "Epoch 137/200\n",
            "600/600 [==============================] - 1s 2ms/step - loss: 5.8123e-04 - acc: 1.0000\n",
            "Epoch 138/200\n",
            "600/600 [==============================] - 1s 2ms/step - loss: 2.0963e-05 - acc: 1.0000\n",
            "Epoch 139/200\n",
            "600/600 [==============================] - 1s 2ms/step - loss: 1.2480e-05 - acc: 1.0000\n",
            "Epoch 140/200\n",
            "600/600 [==============================] - 1s 2ms/step - loss: 2.9445e-07 - acc: 1.0000\n",
            "Epoch 141/200\n",
            "600/600 [==============================] - 1s 2ms/step - loss: 0.0020 - acc: 0.9983\n",
            "Epoch 142/200\n",
            "600/600 [==============================] - 1s 2ms/step - loss: 6.2342e-04 - acc: 1.0000\n",
            "Epoch 143/200\n",
            "600/600 [==============================] - 1s 2ms/step - loss: 4.9272e-05 - acc: 1.0000\n",
            "Epoch 144/200\n",
            "600/600 [==============================] - 1s 2ms/step - loss: 0.0038 - acc: 0.9983\n",
            "Epoch 145/200\n",
            "600/600 [==============================] - 1s 2ms/step - loss: 0.0023 - acc: 0.9983\n",
            "Epoch 146/200\n",
            "600/600 [==============================] - 1s 2ms/step - loss: 2.1926e-04 - acc: 1.0000\n",
            "Epoch 147/200\n",
            "600/600 [==============================] - 1s 2ms/step - loss: 2.1803e-05 - acc: 1.0000\n",
            "Epoch 148/200\n",
            "600/600 [==============================] - 1s 2ms/step - loss: 0.0014 - acc: 1.0000\n",
            "Epoch 149/200\n",
            "600/600 [==============================] - 1s 2ms/step - loss: 7.0455e-07 - acc: 1.0000\n",
            "Epoch 150/200\n",
            "600/600 [==============================] - 1s 2ms/step - loss: 2.8202e-05 - acc: 1.0000\n",
            "Epoch 151/200\n",
            "600/600 [==============================] - 1s 2ms/step - loss: 3.2440e-04 - acc: 1.0000\n",
            "Epoch 152/200\n",
            "600/600 [==============================] - 1s 2ms/step - loss: 0.0101 - acc: 0.9967\n",
            "Epoch 153/200\n",
            "600/600 [==============================] - 1s 2ms/step - loss: 7.0896e-04 - acc: 1.0000\n",
            "Epoch 154/200\n",
            "600/600 [==============================] - 1s 2ms/step - loss: 0.0378 - acc: 0.9950\n",
            "Epoch 155/200\n",
            "600/600 [==============================] - 1s 2ms/step - loss: 2.7749e-05 - acc: 1.0000\n",
            "Epoch 156/200\n",
            "600/600 [==============================] - 1s 2ms/step - loss: 2.5045e-05 - acc: 1.0000\n",
            "Epoch 157/200\n",
            "600/600 [==============================] - 1s 2ms/step - loss: 1.5198e-06 - acc: 1.0000\n",
            "Epoch 158/200\n",
            "600/600 [==============================] - 1s 2ms/step - loss: 5.3492e-04 - acc: 1.0000\n",
            "Epoch 159/200\n",
            "600/600 [==============================] - 1s 2ms/step - loss: 3.7904e-05 - acc: 1.0000\n",
            "Epoch 160/200\n",
            "600/600 [==============================] - 1s 2ms/step - loss: 1.2046e-04 - acc: 1.0000\n",
            "Epoch 161/200\n",
            "600/600 [==============================] - 1s 2ms/step - loss: 6.7786e-04 - acc: 1.0000\n",
            "Epoch 162/200\n",
            "600/600 [==============================] - 1s 2ms/step - loss: 2.3483e-05 - acc: 1.0000\n",
            "Epoch 163/200\n",
            "600/600 [==============================] - 1s 2ms/step - loss: 3.0725e-04 - acc: 1.0000\n",
            "Epoch 164/200\n",
            "600/600 [==============================] - 1s 2ms/step - loss: 1.1219e-04 - acc: 1.0000\n",
            "Epoch 165/200\n",
            "600/600 [==============================] - 1s 2ms/step - loss: 0.0063 - acc: 0.9983\n",
            "Epoch 166/200\n",
            "600/600 [==============================] - 1s 2ms/step - loss: 0.0078 - acc: 0.9983\n",
            "Epoch 167/200\n",
            "600/600 [==============================] - 1s 2ms/step - loss: 0.0106 - acc: 0.9967\n",
            "Epoch 168/200\n",
            "600/600 [==============================] - 1s 2ms/step - loss: 0.0172 - acc: 0.9933\n",
            "Epoch 169/200\n",
            "600/600 [==============================] - 1s 2ms/step - loss: 0.0035 - acc: 0.9983\n",
            "Epoch 170/200\n",
            "600/600 [==============================] - 1s 2ms/step - loss: 4.9390e-04 - acc: 1.0000\n",
            "Epoch 171/200\n",
            "600/600 [==============================] - 1s 2ms/step - loss: 7.6067e-06 - acc: 1.0000\n",
            "Epoch 172/200\n",
            "600/600 [==============================] - 1s 2ms/step - loss: 2.0411e-04 - acc: 1.0000\n",
            "Epoch 173/200\n",
            "600/600 [==============================] - 1s 2ms/step - loss: 2.6165e-04 - acc: 1.0000\n",
            "Epoch 174/200\n",
            "600/600 [==============================] - 1s 2ms/step - loss: 1.3018e-06 - acc: 1.0000\n",
            "Epoch 175/200\n",
            "600/600 [==============================] - 1s 2ms/step - loss: 0.0016 - acc: 0.9983\n",
            "Epoch 176/200\n",
            "600/600 [==============================] - 1s 2ms/step - loss: 0.0050 - acc: 0.9983\n",
            "Epoch 177/200\n",
            "600/600 [==============================] - 1s 2ms/step - loss: 1.0813e-05 - acc: 1.0000\n",
            "Epoch 178/200\n",
            "600/600 [==============================] - 1s 2ms/step - loss: 2.2119e-05 - acc: 1.0000\n",
            "Epoch 179/200\n",
            "600/600 [==============================] - 1s 2ms/step - loss: 7.6771e-06 - acc: 1.0000\n",
            "Epoch 180/200\n",
            "600/600 [==============================] - 1s 2ms/step - loss: 2.9398e-05 - acc: 1.0000\n",
            "Epoch 181/200\n",
            "600/600 [==============================] - 1s 2ms/step - loss: 1.8319e-07 - acc: 1.0000\n",
            "Epoch 182/200\n",
            "600/600 [==============================] - 1s 2ms/step - loss: 1.7135e-05 - acc: 1.0000\n",
            "Epoch 183/200\n",
            "600/600 [==============================] - 1s 2ms/step - loss: 8.6900e-07 - acc: 1.0000\n",
            "Epoch 184/200\n",
            "600/600 [==============================] - 1s 2ms/step - loss: 7.9164e-07 - acc: 1.0000\n",
            "Epoch 185/200\n",
            "600/600 [==============================] - 1s 2ms/step - loss: 0.0011 - acc: 1.0000\n",
            "Epoch 186/200\n",
            "600/600 [==============================] - 1s 2ms/step - loss: 1.5182e-06 - acc: 1.0000\n",
            "Epoch 187/200\n",
            "600/600 [==============================] - 1s 2ms/step - loss: 5.3001e-07 - acc: 1.0000\n",
            "Epoch 188/200\n",
            "600/600 [==============================] - 1s 2ms/step - loss: 1.9158e-05 - acc: 1.0000\n",
            "Epoch 189/200\n",
            "600/600 [==============================] - 1s 2ms/step - loss: 6.2702e-06 - acc: 1.0000\n",
            "Epoch 190/200\n",
            "600/600 [==============================] - 1s 2ms/step - loss: 8.1019e-05 - acc: 1.0000\n",
            "Epoch 191/200\n",
            "600/600 [==============================] - 1s 2ms/step - loss: 1.8003e-04 - acc: 1.0000\n",
            "Epoch 192/200\n",
            "600/600 [==============================] - 1s 2ms/step - loss: 2.2002e-04 - acc: 1.0000\n",
            "Epoch 193/200\n",
            "600/600 [==============================] - 1s 2ms/step - loss: 4.8561e-05 - acc: 1.0000\n",
            "Epoch 194/200\n",
            "600/600 [==============================] - 1s 2ms/step - loss: 5.3644e-04 - acc: 1.0000\n",
            "Epoch 195/200\n",
            "600/600 [==============================] - 1s 2ms/step - loss: 6.0563e-07 - acc: 1.0000\n",
            "Epoch 196/200\n",
            "600/600 [==============================] - 1s 2ms/step - loss: 0.0018 - acc: 0.9983\n",
            "Epoch 197/200\n",
            "600/600 [==============================] - 1s 2ms/step - loss: 0.0026 - acc: 0.9983\n",
            "Epoch 198/200\n",
            "600/600 [==============================] - 1s 2ms/step - loss: 0.0079 - acc: 0.9983\n",
            "Epoch 199/200\n",
            "600/600 [==============================] - 1s 2ms/step - loss: 1.3611e-04 - acc: 1.0000\n",
            "Epoch 200/200\n",
            "600/600 [==============================] - 1s 2ms/step - loss: 9.0413e-06 - acc: 1.0000\n"
          ],
          "name": "stdout"
        }
      ]
    },
    {
      "metadata": {
        "id": "FP8NQ7W5B9dx",
        "colab_type": "code",
        "colab": {}
      },
      "cell_type": "code",
      "source": [
        "#for testing we need to make the test features by passing it through the vgg16 model\n",
        "nTest=80\n",
        "test_features = vgg_conv.predict(test_X)\n",
        "test_features = np.reshape(test_features, (80, 12 * 16 * 512))"
      ],
      "execution_count": 0,
      "outputs": []
    },
    {
      "metadata": {
        "id": "dcio8REpm0tl",
        "colab_type": "code",
        "colab": {
          "base_uri": "https://localhost:8080/",
          "height": 54
        },
        "outputId": "66dd4b8b-4850-48bb-bd1b-89bc98833392"
      },
      "cell_type": "code",
      "source": [
        "test_eval = model.evaluate(test_features, test_label, verbose=0)\n",
        "print('Test loss:', test_eval[0])\n",
        "print('Test accuracy:', test_eval[1])"
      ],
      "execution_count": 51,
      "outputs": [
        {
          "output_type": "stream",
          "text": [
            "Test loss: 3.223619079589844\n",
            "Test accuracy: 0.8\n"
          ],
          "name": "stdout"
        }
      ]
    },
    {
      "metadata": {
        "id": "WlhnGmAEnKbO",
        "colab_type": "code",
        "colab": {}
      },
      "cell_type": "code",
      "source": [
        "model.save(\"model_softmax_(80).h5py\")"
      ],
      "execution_count": 0,
      "outputs": []
    },
    {
      "metadata": {
        "id": "p38CXmKvpQ3F",
        "colab_type": "code",
        "colab": {
          "base_uri": "https://localhost:8080/",
          "height": 472
        },
        "outputId": "27f8881c-d2a3-4233-9708-988b9d4da6e8"
      },
      "cell_type": "code",
      "source": [
        "from google.colab import files\n",
        "files.download('model_softmax_(80).h5py')"
      ],
      "execution_count": 53,
      "outputs": [
        {
          "output_type": "stream",
          "text": [
            "----------------------------------------\n",
            "Exception happened during processing of request from ('::ffff:127.0.0.1', 52766, 0, 0)\n",
            "Traceback (most recent call last):\n",
            "  File \"/usr/lib/python3.6/socketserver.py\", line 317, in _handle_request_noblock\n",
            "    self.process_request(request, client_address)\n",
            "  File \"/usr/lib/python3.6/socketserver.py\", line 348, in process_request\n",
            "    self.finish_request(request, client_address)\n",
            "  File \"/usr/lib/python3.6/socketserver.py\", line 361, in finish_request\n",
            "    self.RequestHandlerClass(request, client_address, self)\n",
            "  File \"/usr/lib/python3.6/socketserver.py\", line 721, in __init__\n",
            "    self.handle()\n",
            "  File \"/usr/lib/python3.6/http/server.py\", line 418, in handle\n",
            "    self.handle_one_request()\n",
            "  File \"/usr/lib/python3.6/http/server.py\", line 406, in handle_one_request\n",
            "    method()\n",
            "  File \"/usr/lib/python3.6/http/server.py\", line 639, in do_GET\n",
            "    self.copyfile(f, self.wfile)\n",
            "  File \"/usr/lib/python3.6/http/server.py\", line 800, in copyfile\n",
            "    shutil.copyfileobj(source, outputfile)\n",
            "  File \"/usr/lib/python3.6/shutil.py\", line 82, in copyfileobj\n",
            "    fdst.write(buf)\n",
            "  File \"/usr/lib/python3.6/socketserver.py\", line 800, in write\n",
            "    self._sock.sendall(b)\n",
            "ConnectionResetError: [Errno 104] Connection reset by peer\n",
            "----------------------------------------\n"
          ],
          "name": "stderr"
        }
      ]
    },
    {
      "metadata": {
        "id": "BlOoAwzwpbUS",
        "colab_type": "code",
        "colab": {}
      },
      "cell_type": "code",
      "source": [
        ""
      ],
      "execution_count": 0,
      "outputs": []
    }
  ]
}